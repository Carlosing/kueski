{
 "cells": [
  {
   "cell_type": "markdown",
   "id": "e99656dd",
   "metadata": {},
   "source": [
    "# Import kaggle repository\n",
    "*Movie Lens*"
   ]
  },
  {
   "cell_type": "code",
   "execution_count": 8,
   "id": "8b3e0b0b",
   "metadata": {},
   "outputs": [],
   "source": [
    "from kaggle.api.kaggle_api_extended import KaggleApi\n",
    "api = KaggleApi()\n",
    "api.authenticate()\n",
    "api.dataset_download_files('grouplens/movielens-20m-dataset')\n",
    "\n",
    "import zipfile\n",
    "with zipfile.ZipFile(\"movielens-20m-dataset.zip\",\"r\") as zip_ref:\n",
    "    zip_ref.extractall('')\n"
   ]
  },
  {
   "cell_type": "code",
   "execution_count": 10,
   "id": "2a3ceafb",
   "metadata": {},
   "outputs": [],
   "source": [
    "import pandas as pd\n",
    "\n",
    "from datetime import datetime \n",
    "\n",
    "import matplotlib.pyplot as plt\n",
    "\n",
    "import numpy as np\n",
    "\n",
    "tag=pd.read_csv(\"tag.csv\")\n",
    "\n",
    "genome_tags=pd.read_csv(\"genome_tags.csv\")    \n",
    "\n",
    "movie=pd.read_csv(\"movie.csv\")\n",
    "\n",
    "rating=pd.read_csv(\"rating.csv\")\n",
    "\n",
    "genome_scores=pd.read_csv(\"genome_scores.csv\")"
   ]
  },
  {
   "cell_type": "code",
   "execution_count": null,
   "id": "e477f833",
   "metadata": {},
   "outputs": [],
   "source": []
  }
 ],
 "metadata": {
  "kernelspec": {
   "display_name": "Python 3",
   "language": "python",
   "name": "python3"
  },
  "language_info": {
   "codemirror_mode": {
    "name": "ipython",
    "version": 3
   },
   "file_extension": ".py",
   "mimetype": "text/x-python",
   "name": "python",
   "nbconvert_exporter": "python",
   "pygments_lexer": "ipython3",
   "version": "3.8.8"
  }
 },
 "nbformat": 4,
 "nbformat_minor": 5
}
